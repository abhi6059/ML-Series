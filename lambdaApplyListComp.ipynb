{
 "cells": [
  {
   "cell_type": "code",
   "execution_count": 1,
   "metadata": {},
   "outputs": [
    {
     "name": "stdout",
     "output_type": "stream",
     "text": [
      "15\n"
     ]
    }
   ],
   "source": [
    "x = lambda a:a+10\n",
    "print(x(5))"
   ]
  },
  {
   "cell_type": "code",
   "execution_count": 2,
   "metadata": {},
   "outputs": [
    {
     "name": "stdout",
     "output_type": "stream",
     "text": [
      "30\n"
     ]
    }
   ],
   "source": [
    "x = lambda a,b:a*b\n",
    "print(x(5,6))"
   ]
  },
  {
   "cell_type": "code",
   "execution_count": 3,
   "metadata": {},
   "outputs": [
    {
     "name": "stdout",
     "output_type": "stream",
     "text": [
      "4.0\n"
     ]
    }
   ],
   "source": [
    "x =lambda a,b,c:(a+b+c)/3\n",
    "print(x(3,4,5))"
   ]
  },
  {
   "cell_type": "code",
   "execution_count": 5,
   "metadata": {},
   "outputs": [
    {
     "name": "stdout",
     "output_type": "stream",
     "text": [
      "22\n"
     ]
    }
   ],
   "source": [
    "def Num(n):\n",
    "    return lambda a:a*n\n",
    "\n",
    "myDouble = doubleNum(2)\n",
    "myTriple = \n",
    "print(myDouble(11))"
   ]
  },
  {
   "cell_type": "code",
   "execution_count": 6,
   "metadata": {
    "scrolled": true
   },
   "outputs": [
    {
     "name": "stdout",
     "output_type": "stream",
     "text": [
      "[22, 54, 62]\n",
      "[5, 7, 97, 77, 23, 73, 61]\n"
     ]
    }
   ],
   "source": [
    "#lambda along with filter()\n",
    "li = [5, 7, 22, 97, 54, 62, 77, 23, 73, 61] \n",
    "finalList = list(filter(lambda x : x%2==0,li)) #to filter even numbers\n",
    "print(finalList)\n",
    "finalList1 = list(filter(lambda x: x%2!=0,li)) #to filter odd numbers\n",
    "print(finalList1)"
   ]
  },
  {
   "cell_type": "code",
   "execution_count": 8,
   "metadata": {
    "scrolled": true
   },
   "outputs": [
    {
     "name": "stdout",
     "output_type": "stream",
     "text": [
      "[10, 14, 44, 194, 108, 124, 154, 46, 146, 122]\n"
     ]
    }
   ],
   "source": [
    "#lambda with map()\n",
    "li = [5, 7, 22, 97, 54, 62, 77, 23, 73, 61]\n",
    "finalList = list(map(lambda x: x*2,li))  #changing list values using map\n",
    "print(finalList)"
   ]
  },
  {
   "cell_type": "code",
   "execution_count": 10,
   "metadata": {},
   "outputs": [
    {
     "name": "stdout",
     "output_type": "stream",
     "text": [
      "193\n"
     ]
    }
   ],
   "source": [
    "#lambda with reduce()\n",
    "from functools import reduce\n",
    "li = [5, 8, 10, 20, 50, 100] \n",
    "sum = reduce(lambda x,y: x+y , li)\n",
    "print(sum)                            #(((((5+8)+10)+20)+50)+100)"
   ]
  },
  {
   "cell_type": "code",
   "execution_count": 31,
   "metadata": {
    "scrolled": true
   },
   "outputs": [
    {
     "name": "stdout",
     "output_type": "stream",
     "text": [
      "0    low\n",
      "1    low\n",
      "2    low\n",
      "3    low\n",
      "4    low\n",
      "Name: Stock Price, dtype: object\n",
      "normal normal normal\n",
      "3007    high\n",
      "3008    high\n",
      "3009    high\n",
      "3010    high\n",
      "3011    high\n",
      "Name: Stock Price, dtype: object\n"
     ]
    }
   ],
   "source": [
    "import pandas as pd\n",
    "s = pd.read_csv(\"stock.csv\",squeeze=True)\n",
    "\n",
    "#s.head()\n",
    "\n",
    "def fun(num):\n",
    "    if num<200:\n",
    "        return \"low\"\n",
    "    elif num>=200 and num<400:\n",
    "        return \"normal\"\n",
    "    else:\n",
    "        return \"high\"\n",
    "#apply fun to the dataset\n",
    "new = s.apply(fun)\n",
    "\n",
    "print(new.head())\n",
    "\n",
    "print(new[1400],new[1500],new[1600])\n",
    "\n",
    "print(new.tail())"
   ]
  },
  {
   "cell_type": "code",
   "execution_count": 57,
   "metadata": {},
   "outputs": [
    {
     "name": "stdout",
     "output_type": "stream",
     "text": [
      "0    50.12\n",
      "1    54.10\n",
      "2    54.65\n",
      "3    52.38\n",
      "4    52.95\n",
      "Name: Stock Price, dtype: float64 \n",
      " 0    55.12\n",
      "1    59.10\n",
      "2    59.65\n",
      "3    57.38\n",
      "4    57.95\n",
      "Name: Stock Price, dtype: float64 \n",
      "\n",
      "3007    772.88\n",
      "3008    771.07\n",
      "3009    773.18\n",
      "3010    771.61\n",
      "3011    782.22\n",
      "Name: Stock Price, dtype: float64 \n",
      " 3007    777.88\n",
      "3008    776.07\n",
      "3009    778.18\n",
      "3010    776.61\n",
      "3011    787.22\n",
      "Name: Stock Price, dtype: float64\n"
     ]
    }
   ],
   "source": [
    "import pandas as pd\n",
    "s = pd.read_csv(\"stock.csv\",squeeze=True)\n",
    "\n",
    "new = s.apply(lambda x:x+5)\n",
    "print(s.head() ,'\\n', new.head(),'\\n')\n",
    "print(s.tail(),'\\n',new.tail())"
   ]
  },
  {
   "cell_type": "code",
   "execution_count": 43,
   "metadata": {
    "scrolled": true
   },
   "outputs": [
    {
     "name": "stdout",
     "output_type": "stream",
     "text": [
      "[1, 9, 25, 49, 81]\n"
     ]
    }
   ],
   "source": [
    "#list Comprehension \n",
    "#odd square generation\n",
    "oddSqr = [x**2 for x in range(1,11) if x%2!=0]\n",
    "print(oddSqr)"
   ]
  },
  {
   "cell_type": "code",
   "execution_count": 44,
   "metadata": {},
   "outputs": [
    {
     "name": "stdout",
     "output_type": "stream",
     "text": [
      "[2, 4, 8, 16, 32, 64, 128, 256]\n"
     ]
    }
   ],
   "source": [
    "#power of 2 till 8\n",
    "powr_of_2 = [2**x for x in range(1,9)]\n",
    "print(powr_of_2)"
   ]
  },
  {
   "cell_type": "code",
   "execution_count": 56,
   "metadata": {
    "scrolled": false
   },
   "outputs": [
    {
     "name": "stdout",
     "output_type": "stream",
     "text": [
      "[2, 3, 5, 7, 11, 13, 17, 19, 23, 29, 31, 37, 41, 43, 47]\n"
     ]
    }
   ],
   "source": [
    "#primes under 50\n",
    "primes = [j for i in range(2,8) for j in range (i*2,50,i)]\n",
    "nonprimes = [i for i in range(2,50) if i not in primes]\n",
    "print(nonprimes)"
   ]
  },
  {
   "cell_type": "code",
   "execution_count": 64,
   "metadata": {
    "scrolled": false
   },
   "outputs": [
    {
     "name": "stdout",
     "output_type": "stream",
     "text": [
      "['a', 'b', 'c']\n"
     ]
    }
   ],
   "source": [
    "#list for lowering the characters\n",
    "print([x.lower() for x in [\"A\",\"B\",\"C\"]])"
   ]
  },
  {
   "cell_type": "code",
   "execution_count": 65,
   "metadata": {},
   "outputs": [
    {
     "name": "stdout",
     "output_type": "stream",
     "text": [
      "['1', '1', '1', '2', '2']\n"
     ]
    }
   ],
   "source": [
    "#list which extracts number\n",
    "string = \"my phone number is : 11122 !!\"\n",
    "num = [x for x in string if x.isdigit()]\n",
    "print(num)"
   ]
  },
  {
   "cell_type": "code",
   "execution_count": 68,
   "metadata": {},
   "outputs": [
    {
     "name": "stdout",
     "output_type": "stream",
     "text": [
      "[5, 1, 5]\n",
      "[5, 2, 10]\n",
      "[5, 3, 15]\n",
      "[5, 4, 20]\n",
      "[5, 5, 25]\n",
      "[5, 6, 30]\n",
      "[5, 7, 35]\n",
      "[5, 8, 40]\n",
      "[5, 9, 45]\n",
      "[5, 10, 50]\n"
     ]
    }
   ],
   "source": [
    "#list of lists for multiplication table\n",
    "a=5\n",
    "table=[[a,b,a*b] for b in range(1,11)]\n",
    "for i in table:\n",
    "    print(i)"
   ]
  },
  {
   "cell_type": "code",
   "execution_count": 84,
   "metadata": {
    "scrolled": false
   },
   "outputs": [
    {
     "name": "stdout",
     "output_type": "stream",
     "text": [
      "[1, 2, 3, 4, 5, 6, 7, 8, 9, 10]\n",
      "[2, 3, 4, 5]\n",
      "[6, 7, 8]\n",
      "[2, 3, 4, 5, 6, 7, 8, 9, 10]\n",
      "[1, 2, 3, 4, 5]\n",
      "[2, 4, 6, 8]\n",
      "[10, 9, 8, 7, 6, 5, 4, 3, 2, 1]\n",
      "[10, 8, 6]\n"
     ]
    }
   ],
   "source": [
    "#list slicing\n",
    "st = [i for i in range(1,11)]\n",
    "print(st)\n",
    "\n",
    "st1_5 = st[1:5]\n",
    "print(st1_5)\n",
    "\n",
    "st5_8 = st[5:8]\n",
    "print(st5_8)\n",
    "\n",
    "st1_ = st[1:]\n",
    "print(st1_)\n",
    "\n",
    "st_5 = st[:5]\n",
    "print(st_5)\n",
    "\n",
    "st1_8_2 = st[1:8:2]\n",
    "print(st1_8_2)\n",
    "\n",
    "rev_st = st[::-1]\n",
    "print(rev_st)\n",
    "\n",
    "st9_5_2 = st[9:4:-2]\n",
    "print(st9_5_2)"
   ]
  },
  {
   "cell_type": "code",
   "execution_count": 102,
   "metadata": {
    "scrolled": true
   },
   "outputs": [
    {
     "name": "stdout",
     "output_type": "stream",
     "text": [
      "0        50.12\n",
      "1        54.10\n",
      "2        54.65\n",
      "3        52.38\n",
      "4        52.95\n",
      "5        53.90\n",
      "6        53.02\n",
      "7        50.95\n",
      "8        51.13\n",
      "9        50.07\n",
      "10       50.70\n",
      "11       49.95\n",
      "12       50.74\n",
      "13       51.10\n",
      "14       51.10\n",
      "15       52.61\n",
      "16       53.70\n",
      "17       55.69\n",
      "18       55.94\n",
      "19       56.93\n",
      "20       58.69\n",
      "21       59.62\n",
      "22       58.86\n",
      "23       59.13\n",
      "24       60.35\n",
      "25       59.86\n",
      "26       59.07\n",
      "27       63.37\n",
      "28       65.47\n",
      "29       64.74\n",
      "         ...  \n",
      "2982    675.22\n",
      "2983    668.26\n",
      "2984    680.04\n",
      "2985    684.11\n",
      "2986    692.10\n",
      "2987    699.21\n",
      "2988    694.49\n",
      "2989    697.77\n",
      "2990    695.36\n",
      "2991    705.63\n",
      "2992    715.09\n",
      "2993    720.64\n",
      "2994    716.98\n",
      "2995    720.95\n",
      "2996    719.85\n",
      "2997    733.78\n",
      "2998    736.96\n",
      "2999    741.19\n",
      "3000    738.63\n",
      "3001    742.74\n",
      "3002    739.77\n",
      "3003    738.42\n",
      "3004    741.77\n",
      "3005    745.91\n",
      "3006    768.79\n",
      "3007    772.88\n",
      "3008    771.07\n",
      "3009    773.18\n",
      "3010    771.61\n",
      "3011    782.22\n",
      "Name: Stock Price, Length: 3012, dtype: float64\n"
     ]
    }
   ],
   "source": [
    "#using dataframe\n",
    "import pandas as pd \n",
    "data = pd.read_csv(\"stock.csv\")\n",
    "df = pd.DataFrame(data)\n",
    "print(df[\"Stock Price\"])"
   ]
  },
  {
   "cell_type": "code",
   "execution_count": 104,
   "metadata": {},
   "outputs": [
    {
     "name": "stdout",
     "output_type": "stream",
     "text": [
      "Stock Price    52.38\n",
      "Name: 3, dtype: float64\n"
     ]
    }
   ],
   "source": [
    "#locating a specific row\n",
    "import pandas as pd\n",
    "data = pd.read_csv(\"stock.csv\")\n",
    "row = data.iloc[3]\n",
    "print(row)"
   ]
  },
  {
   "cell_type": "code",
   "execution_count": null,
   "metadata": {},
   "outputs": [],
   "source": []
  }
 ],
 "metadata": {
  "kernelspec": {
   "display_name": "Python 3",
   "language": "python",
   "name": "python3"
  },
  "language_info": {
   "codemirror_mode": {
    "name": "ipython",
    "version": 3
   },
   "file_extension": ".py",
   "mimetype": "text/x-python",
   "name": "python",
   "nbconvert_exporter": "python",
   "pygments_lexer": "ipython3",
   "version": "3.7.3"
  }
 },
 "nbformat": 4,
 "nbformat_minor": 2
}
