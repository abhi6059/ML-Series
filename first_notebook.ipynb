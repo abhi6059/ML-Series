{
 "cells": [
  {
   "cell_type": "code",
   "execution_count": 30,
   "metadata": {},
   "outputs": [
    {
     "name": "stdout",
     "output_type": "stream",
     "text": [
      "1 is Odd\n"
     ]
    }
   ],
   "source": [
    "def oddOrEven (num):\n",
    "    if num%2==0:\n",
    "        print(num,\"is Even\")\n",
    "    else:\n",
    "        print(num,\"is Odd\")\n",
    "        \n",
    "oddoreven(1)\n"
   ]
  },
  {
   "cell_type": "code",
   "execution_count": 28,
   "metadata": {},
   "outputs": [
    {
     "name": "stdout",
     "output_type": "stream",
     "text": [
      "7 * 1 = 7\n",
      "7 * 2 = 14\n",
      "7 * 3 = 21\n",
      "7 * 4 = 28\n",
      "7 * 5 = 35\n",
      "7 * 6 = 42\n",
      "7 * 7 = 49\n",
      "7 * 8 = 56\n",
      "7 * 9 = 63\n",
      "7 * 10 = 70\n"
     ]
    }
   ],
   "source": [
    "def mulOfNum(num):\n",
    "    x=1\n",
    "    while x<=10:\n",
    "        print (num,\"*\",x,\"=\",num*x)\n",
    "        x+=1\n",
    "\n",
    "mulOfNum(7)"
   ]
  },
  {
   "cell_type": "code",
   "execution_count": 29,
   "metadata": {},
   "outputs": [
    {
     "name": "stdout",
     "output_type": "stream",
     "text": [
      "3 is greatest\n"
     ]
    }
   ],
   "source": [
    "def greatestOfThree(num1,num2,num3):\n",
    "    if num1>num2:\n",
    "        if num1>num3:\n",
    "            print (num1,\"is greatest\")\n",
    "        else:\n",
    "            print (num3,\"is greatest\")\n",
    "    else:\n",
    "        if num2>num3:\n",
    "            print(num2,\"is greatest\")\n",
    "        else:\n",
    "            print(num3,\"is greatest\")\n",
    "\n",
    "greatestOfThree(3,1,2)"
   ]
  },
  {
   "cell_type": "code",
   "execution_count": 31,
   "metadata": {},
   "outputs": [
    {
     "name": "stdout",
     "output_type": "stream",
     "text": [
      "15\n"
     ]
    }
   ],
   "source": [
    "def sumOfNnum(num):\n",
    "    sum1=0\n",
    "    x=1\n",
    "    while x<=num:\n",
    "        sum1+=x\n",
    "        x+=1\n",
    "    return sum1\n",
    "\n",
    "ans=sumOfNnum(5)\n",
    "print (ans)"
   ]
  },
  {
   "cell_type": "code",
   "execution_count": 33,
   "metadata": {},
   "outputs": [
    {
     "name": "stdout",
     "output_type": "stream",
     "text": [
      "2.0\n"
     ]
    }
   ],
   "source": [
    "def aveOfNum(num1,num2,num3):\n",
    "    ave=(num1+num2+num3)/3\n",
    "    print(ave)\n",
    "    \n",
    "aveOfNum(1,2,3)"
   ]
  },
  {
   "cell_type": "code",
   "execution_count": 35,
   "metadata": {
    "scrolled": true
   },
   "outputs": [
    {
     "name": "stdout",
     "output_type": "stream",
     "text": [
      "2 1\n"
     ]
    }
   ],
   "source": [
    "def swapTwoNum(num1,num2):\n",
    "    num1,num2=num2,num1\n",
    "    print (num1,num2)\n",
    "    \n",
    "swapTwoNum(1,2)"
   ]
  },
  {
   "cell_type": "code",
   "execution_count": 41,
   "metadata": {},
   "outputs": [
    {
     "name": "stdout",
     "output_type": "stream",
     "text": [
      "6\n"
     ]
    }
   ],
   "source": [
    "def sumOfDigits(num):\n",
    "    sum1=0\n",
    "    while num>0:\n",
    "        rem=num%10\n",
    "        sum1+=rem\n",
    "        num=int(num/10)\n",
    "    print (sum1)\n",
    "\n",
    "sumOfDigits(123)"
   ]
  },
  {
   "cell_type": "code",
   "execution_count": 48,
   "metadata": {},
   "outputs": [
    {
     "name": "stdout",
     "output_type": "stream",
     "text": [
      "2005 is not leap year\n"
     ]
    }
   ],
   "source": [
    "def leapYear(num):\n",
    "    if (num%400==0) or (num%4==0 and num%100!=0):\n",
    "        print (num,\"is leap year\")\n",
    "    else:\n",
    "        print(num,\"is not leap year\")\n",
    "\n",
    "leapYear(2005)"
   ]
  },
  {
   "cell_type": "code",
   "execution_count": 52,
   "metadata": {},
   "outputs": [
    {
     "name": "stdout",
     "output_type": "stream",
     "text": [
      "1\n",
      "8\n",
      "27\n",
      "64\n"
     ]
    }
   ],
   "source": [
    "def cubeTillN(num):\n",
    "    x=1\n",
    "    while x<=num:\n",
    "        print(x*x*x)\n",
    "        x+=1\n",
    "\n",
    "cubeTillN(4)"
   ]
  },
  {
   "cell_type": "code",
   "execution_count": 7,
   "metadata": {},
   "outputs": [
    {
     "name": "stdout",
     "output_type": "stream",
     "text": [
      "1\n",
      "2\n",
      "5\n",
      "10\n"
     ]
    }
   ],
   "source": [
    "x=10\n",
    "i=1\n",
    "while i<=x:\n",
    "    if x%i==0:\n",
    "        print (i)\n",
    "    i+=1"
   ]
  },
  {
   "cell_type": "code",
   "execution_count": 6,
   "metadata": {},
   "outputs": [
    {
     "name": "stdout",
     "output_type": "stream",
     "text": [
      "1\n",
      "2\n",
      "5\n",
      "10\n"
     ]
    }
   ],
   "source": [
    "x=10\n",
    "for i in range(1,x+1):\n",
    "    if x%i==0:\n",
    "        print (i)"
   ]
  },
  {
   "cell_type": "code",
   "execution_count": 13,
   "metadata": {},
   "outputs": [
    {
     "name": "stdout",
     "output_type": "stream",
     "text": [
      "(1, 2, 5)\n"
     ]
    }
   ],
   "source": [
    "x=10\n",
    "divisors=()\n",
    "for i in range(1,x):\n",
    "    if x%i==0:\n",
    "        divisors=divisors +(i,)\n",
    "print (divisors)"
   ]
  },
  {
   "cell_type": "code",
   "execution_count": 5,
   "metadata": {},
   "outputs": [
    {
     "name": "stdout",
     "output_type": "stream",
     "text": [
      "Number of chickens: 4\n",
      "Number of pigs: 0\n"
     ]
    }
   ],
   "source": [
    "def NumOfPigsAndChickens(heads,legs):\n",
    "    for chickens in range(0,heads+1):\n",
    "        pigs=heads-chickens\n",
    "        totlegs=2*chickens+4*pigs\n",
    "        if totlegs==legs:\n",
    "            return (chickens,pigs)\n",
    "    return (None,None)\n",
    "\n",
    "def solve(h,l):\n",
    "    chicks,pigs=NumOfPigsAndChickens(h,l)\n",
    "    if chicks==None:\n",
    "        print(\"There is no solution\")\n",
    "    else:\n",
    "        print(\"Number of chickens:\",chicks)\n",
    "        print(\"Number of pigs:\",pigs)\n",
    "\n",
    "solve(4,8)"
   ]
  },
  {
   "cell_type": "code",
   "execution_count": 11,
   "metadata": {},
   "outputs": [
    {
     "name": "stdout",
     "output_type": "stream",
     "text": [
      "Number of chickens: 10\n",
      "Number of pigs: 11\n",
      "Number of spiders: 0\n"
     ]
    }
   ],
   "source": [
    "def PigsChicksSpid(heads,legs):\n",
    "    for spiders in range(0,heads+1):\n",
    "        for chickens in range(0,heads-spiders+1):\n",
    "            pigs=heads-spiders-chickens\n",
    "            totlegs=2*chickens+4*pigs+8*spiders\n",
    "            if totlegs==legs:\n",
    "                return (chickens,pigs,spiders)\n",
    "    return (None,None,None)\n",
    "\n",
    "def solve1(h,l):\n",
    "    chickens,pigs,spiders=PigsChicksSpid(h,l)\n",
    "    if chickens==None:\n",
    "        print(\"There is no solution\")\n",
    "    else:\n",
    "        print(\"Number of chickens:\",chickens)\n",
    "        print(\"Number of pigs:\",pigs)\n",
    "        print(\"Number of spiders:\",spiders)\n",
    "        \n",
    "solve1(21,64)\n"
   ]
  },
  {
   "cell_type": "code",
   "execution_count": 7,
   "metadata": {},
   "outputs": [
    {
     "data": {
      "text/plain": [
       "True"
      ]
     },
     "execution_count": 7,
     "metadata": {},
     "output_type": "execute_result"
    }
   ],
   "source": [
    "def isPalindrome(s):\n",
    "    if len(s)<=1:\n",
    "        return True\n",
    "    else:\n",
    "        return s[0]==s[-1] and isPalindrome(s[1:-1])\n",
    "    \n",
    "isPalindrome(\"abcdcba\")"
   ]
  },
  {
   "cell_type": "code",
   "execution_count": 3,
   "metadata": {},
   "outputs": [
    {
     "data": {
      "text/plain": [
       "8"
      ]
     },
     "execution_count": 3,
     "metadata": {},
     "output_type": "execute_result"
    }
   ],
   "source": [
    "def fibonacci(n):\n",
    "    if n==0 or n==1:\n",
    "        return 1\n",
    "    else:\n",
    "        return fibonacci(n-1)+fibonacci(n-2)\n",
    "    \n",
    "fibonacci(5)"
   ]
  },
  {
   "cell_type": "code",
   "execution_count": 32,
   "metadata": {
    "scrolled": false
   },
   "outputs": [
    {
     "name": "stdout",
     "output_type": "stream",
     "text": [
      "['False', 'None', 'True', 'and', 'as', 'assert', 'async', 'await', 'break', 'class', 'continue', 'def', 'del', 'elif', 'else', 'except', 'finally', 'for', 'from', 'global', 'if', 'import', 'in', 'is', 'lambda', 'nonlocal', 'not', 'or', 'pass', 'raise', 'return', 'try', 'while', 'with', 'yield']\n"
     ]
    }
   ],
   "source": [
    "import keyword\n",
    "print(keyword.kwlist)"
   ]
  },
  {
   "cell_type": "code",
   "execution_count": 57,
   "metadata": {
    "scrolled": false
   },
   "outputs": [
    {
     "name": "stdout",
     "output_type": "stream",
     "text": [
      "[0, 1, 2, 3]\n",
      "[0, 1, 2]\n"
     ]
    }
   ],
   "source": [
    "a=[0,1,2,3]\n",
    "print(a)\n",
    "a.pop()\n",
    "print (a)"
   ]
  },
  {
   "cell_type": "code",
   "execution_count": 4,
   "metadata": {},
   "outputs": [
    {
     "name": "stdout",
     "output_type": "stream",
     "text": [
      "Enter:45\n",
      "45\n"
     ]
    }
   ],
   "source": [
    "x=input(\"Enter:\")\n",
    "print(x)"
   ]
  },
  {
   "cell_type": "code",
   "execution_count": null,
   "metadata": {},
   "outputs": [],
   "source": []
  }
 ],
 "metadata": {
  "kernelspec": {
   "display_name": "Python 3",
   "language": "python",
   "name": "python3"
  },
  "language_info": {
   "codemirror_mode": {
    "name": "ipython",
    "version": 3
   },
   "file_extension": ".py",
   "mimetype": "text/x-python",
   "name": "python",
   "nbconvert_exporter": "python",
   "pygments_lexer": "ipython3",
   "version": "3.7.3"
  }
 },
 "nbformat": 4,
 "nbformat_minor": 2
}
